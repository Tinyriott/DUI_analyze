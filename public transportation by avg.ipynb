{
 "cells": [
  {
   "cell_type": "code",
   "execution_count": 1,
   "id": "3060ee73-4be8-4c47-a773-e37a53812964",
   "metadata": {},
   "outputs": [],
   "source": [
    "from google.oauth2 import service_account\n",
    "from google.cloud import bigquery\n",
    "import pandas as pd\n",
    "from matplotlib import pyplot as plt\n",
    "import numpy as np\n",
    "from matplotlib import font_manager,rc\n",
    "\n",
    "plt.rc(\"font\", family = \"Malgun gothic\")"
   ]
  },
  {
   "cell_type": "code",
   "execution_count": 2,
   "id": "f24ec8db-d606-4c9d-b446-5b7b76ec2070",
   "metadata": {},
   "outputs": [],
   "source": [
    "credentials = service_account.Credentials.from_service_account_file(\"./teamproject_key.json\")"
   ]
  },
  {
   "cell_type": "code",
   "execution_count": 3,
   "id": "6bdc1830-7ddc-46c3-8a57-0238caef6cad",
   "metadata": {},
   "outputs": [],
   "source": [
    "client = bigquery.Client(\n",
    "    credentials = credentials,\n",
    "    project = credentials.project_id\n",
    ")"
   ]
  },
  {
   "cell_type": "code",
   "execution_count": 4,
   "id": "8c1a7c72-2c4b-4287-b907-901e6388c54d",
   "metadata": {},
   "outputs": [],
   "source": [
    "pp = \"\"\"\n",
    "WITH avg_total AS (\n",
    "    SELECT\n",
    "        FORMAT_DATE('%Y', `teamproject-428905.kim.public_transportation_city`.`연도`) AS `연도`,\n",
    "        (`teamproject-428905.kim.public_transportation_city`.`서울_전체` / `teamproject-428905.kim.population_city`.`서울특별시`) * 100 AS `서울`,\n",
    "        (`teamproject-428905.kim.public_transportation_city`.`부산_전체` / `teamproject-428905.kim.population_city`.`부산광역시`) * 100 AS `부산`,\n",
    "        (`teamproject-428905.kim.public_transportation_city`.`대구_전체` / `teamproject-428905.kim.population_city`.`대구광역시`) * 100 AS `대구`,\n",
    "        (`teamproject-428905.kim.public_transportation_city`.`인천_전체` / `teamproject-428905.kim.population_city`.`인천광역시`) * 100 AS `인천`,\n",
    "        (`teamproject-428905.kim.public_transportation_city`.`광주_전체` / `teamproject-428905.kim.population_city`.`광주광역시`) * 100 AS `광주`,\n",
    "        (`teamproject-428905.kim.public_transportation_city`.`대전_전체` / `teamproject-428905.kim.population_city`.`대전광역시`) * 100 AS `대전`,\n",
    "        (`teamproject-428905.kim.public_transportation_city`.`울산_전체` / `teamproject-428905.kim.population_city`.`울산광역시`) * 100 AS `울산`,\n",
    "        (`teamproject-428905.kim.public_transportation_city`.`세종_전체` / `teamproject-428905.kim.population_city`.`세종특별자치시`) * 100 AS `세종`,\n",
    "        (`teamproject-428905.kim.public_transportation_city`.`경기도_전체` / `teamproject-428905.kim.population_city`.`경기도`) * 100 AS `경기`,\n",
    "        (`teamproject-428905.kim.public_transportation_city`.`강원도_전체` / `teamproject-428905.kim.population_city`.`강원특별자치도`) * 100 AS `강원`,\n",
    "        (`teamproject-428905.kim.public_transportation_city`.`충청북도_전체` / `teamproject-428905.kim.population_city`.`충청북도`) * 100 AS `충북`,\n",
    "        (`teamproject-428905.kim.public_transportation_city`.`충청남도_전체` / `teamproject-428905.kim.population_city`.`충청남도`) * 100 AS `충남`,\n",
    "        (`teamproject-428905.kim.public_transportation_city`.`전라북도_전체` / `teamproject-428905.kim.population_city`.`전북특별자치도`) * 100 AS `전북`,\n",
    "        (`teamproject-428905.kim.public_transportation_city`.`전라남도_전체` / `teamproject-428905.kim.population_city`.`전라남도`) * 100 AS `전남`,\n",
    "        (`teamproject-428905.kim.public_transportation_city`.`경상북도_전체` / `teamproject-428905.kim.population_city`.`경상북도`) * 100 AS `경북`,\n",
    "        (`teamproject-428905.kim.public_transportation_city`.`경상남도_전체` / `teamproject-428905.kim.population_city`.`경상남도`) * 100 AS `경남`,\n",
    "        (`teamproject-428905.kim.public_transportation_city`.`제주_전체` / `teamproject-428905.kim.population_city`.`제주특별자치도`) * 100 AS `제주`\n",
    "    FROM\n",
    "        `teamproject-428905.kim.public_transportation_city`\n",
    "    JOIN\n",
    "        `teamproject-428905.kim.population_city`\n",
    "    ON\n",
    "        `teamproject-428905.kim.public_transportation_city`.`연도` = `teamproject-428905.kim.population_city`.`연도`\n",
    ")\n",
    "SELECT\n",
    "\tAVG(`서울`) AS `서울`,\n",
    "    AVG(`부산`) AS `부산`,\n",
    "    AVG(`대구`) AS `대구`,\n",
    "    AVG(`인천`) AS `인천`,\n",
    "    AVG(`광주`) AS `광주`,\n",
    "    AVG(`대전`) AS `대전`,\n",
    "    AVG(`울산`) AS `울산`,\n",
    "    AVG(`세종`) AS `세종`,\n",
    "    AVG(`경기`) AS `경기`,\n",
    "    AVG(`강원`) AS `강원`,\n",
    "    AVG(`충북`) AS `충북`,\n",
    "    AVG(`충남`) AS `충남`,\n",
    "    AVG(`전북`) AS `전북`,\n",
    "    AVG(`전남`) AS `전남`,\n",
    "    AVG(`경북`) AS `경북`,\n",
    "    AVG(`경남`) AS `경남`,\n",
    "    AVG(`제주`) AS `제주`\n",
    "FROM\n",
    "\tavg_total\n",
    "\"\"\""
   ]
  },
  {
   "cell_type": "code",
   "execution_count": 5,
   "id": "0c68bed1-7293-46d1-8cff-4fdedb528350",
   "metadata": {},
   "outputs": [
    {
     "name": "stderr",
     "output_type": "stream",
     "text": [
      "C:\\Users\\rlawn\\AppData\\Local\\Programs\\Python\\Python312\\Lib\\site-packages\\google\\cloud\\bigquery\\table.py:1727: UserWarning: BigQuery Storage module not found, fetch data with the REST endpoint instead.\n",
      "  warnings.warn(\n"
     ]
    }
   ],
   "source": [
    "pp_df = client.query(pp).to_dataframe()"
   ]
  },
  {
   "cell_type": "code",
   "execution_count": 6,
   "id": "36baad24-b326-4ef4-ba53-c42f9e213b24",
   "metadata": {},
   "outputs": [],
   "source": [
    "pp_df = pp_df.transpose()"
   ]
  },
  {
   "cell_type": "code",
   "execution_count": 7,
   "id": "5bc83281-c270-4437-b3fa-a50d7da9ab9c",
   "metadata": {},
   "outputs": [],
   "source": [
    "pp_df.columns = ['avg']"
   ]
  },
  {
   "cell_type": "code",
   "execution_count": 48,
   "id": "5710590c-a2fd-4bda-b5c2-8cea23a354ec",
   "metadata": {},
   "outputs": [],
   "source": [
    "pp_df = pp_df.sort_values(by = \"avg\", ascending = False)"
   ]
  },
  {
   "cell_type": "code",
   "execution_count": 8,
   "id": "864549eb-f15a-4929-ba2c-2f896072091f",
   "metadata": {},
   "outputs": [
    {
     "data": {
      "text/html": [
       "<div>\n",
       "<style scoped>\n",
       "    .dataframe tbody tr th:only-of-type {\n",
       "        vertical-align: middle;\n",
       "    }\n",
       "\n",
       "    .dataframe tbody tr th {\n",
       "        vertical-align: top;\n",
       "    }\n",
       "\n",
       "    .dataframe thead th {\n",
       "        text-align: right;\n",
       "    }\n",
       "</style>\n",
       "<table border=\"1\" class=\"dataframe\">\n",
       "  <thead>\n",
       "    <tr style=\"text-align: right;\">\n",
       "      <th></th>\n",
       "      <th>avg</th>\n",
       "    </tr>\n",
       "  </thead>\n",
       "  <tbody>\n",
       "    <tr>\n",
       "      <th>서울</th>\n",
       "      <td>42.569683</td>\n",
       "    </tr>\n",
       "    <tr>\n",
       "      <th>부산</th>\n",
       "      <td>27.676034</td>\n",
       "    </tr>\n",
       "    <tr>\n",
       "      <th>대구</th>\n",
       "      <td>19.177302</td>\n",
       "    </tr>\n",
       "    <tr>\n",
       "      <th>인천</th>\n",
       "      <td>24.495018</td>\n",
       "    </tr>\n",
       "    <tr>\n",
       "      <th>광주</th>\n",
       "      <td>13.897160</td>\n",
       "    </tr>\n",
       "    <tr>\n",
       "      <th>대전</th>\n",
       "      <td>15.962387</td>\n",
       "    </tr>\n",
       "    <tr>\n",
       "      <th>울산</th>\n",
       "      <td>11.604745</td>\n",
       "    </tr>\n",
       "    <tr>\n",
       "      <th>세종</th>\n",
       "      <td>6.824586</td>\n",
       "    </tr>\n",
       "    <tr>\n",
       "      <th>경기</th>\n",
       "      <td>21.400081</td>\n",
       "    </tr>\n",
       "    <tr>\n",
       "      <th>강원</th>\n",
       "      <td>5.510436</td>\n",
       "    </tr>\n",
       "    <tr>\n",
       "      <th>충북</th>\n",
       "      <td>6.398288</td>\n",
       "    </tr>\n",
       "    <tr>\n",
       "      <th>충남</th>\n",
       "      <td>7.115465</td>\n",
       "    </tr>\n",
       "    <tr>\n",
       "      <th>전북</th>\n",
       "      <td>5.816090</td>\n",
       "    </tr>\n",
       "    <tr>\n",
       "      <th>전남</th>\n",
       "      <td>5.827878</td>\n",
       "    </tr>\n",
       "    <tr>\n",
       "      <th>경북</th>\n",
       "      <td>5.296592</td>\n",
       "    </tr>\n",
       "    <tr>\n",
       "      <th>경남</th>\n",
       "      <td>8.042248</td>\n",
       "    </tr>\n",
       "    <tr>\n",
       "      <th>제주</th>\n",
       "      <td>10.443807</td>\n",
       "    </tr>\n",
       "  </tbody>\n",
       "</table>\n",
       "</div>"
      ],
      "text/plain": [
       "          avg\n",
       "서울  42.569683\n",
       "부산  27.676034\n",
       "대구  19.177302\n",
       "인천  24.495018\n",
       "광주  13.897160\n",
       "대전  15.962387\n",
       "울산  11.604745\n",
       "세종   6.824586\n",
       "경기  21.400081\n",
       "강원   5.510436\n",
       "충북   6.398288\n",
       "충남   7.115465\n",
       "전북   5.816090\n",
       "전남   5.827878\n",
       "경북   5.296592\n",
       "경남   8.042248\n",
       "제주  10.443807"
      ]
     },
     "execution_count": 8,
     "metadata": {},
     "output_type": "execute_result"
    }
   ],
   "source": [
    "pp_df"
   ]
  },
  {
   "cell_type": "code",
   "execution_count": 51,
   "id": "53521cb8-3f10-4479-b1ea-fa62aa8c5872",
   "metadata": {},
   "outputs": [
    {
     "data": {
      "image/png": "[encoded data removed]",
      "text/plain": [
       "<Figure size 640x480 with 1 Axes>"
      ]
     },
     "metadata": {},
     "output_type": "display_data"
    }
   ],
   "source": [
    "plt.style.use('ggplot')\n",
    "pp_df.plot(kind = \"bar\")\n",
    "plt.title(\"< 지역별 인구수 대비 대중교통 이용 비율 >\")\n",
    "_ = plt.xticks(rotation=45)"
   ]
  },
  {
   "cell_type": "code",
   "execution_count": null,
   "id": "02359ab4-df55-4c95-baab-3d43240a10e7",
   "metadata": {},
   "outputs": [],
   "source": []
  }
 ],
 "metadata": {
  "kernelspec": {
   "display_name": "Python 3 (ipykernel)",
   "language": "python",
   "name": "python3"
  },
  "language_info": {
   "codemirror_mode": {
    "name": "ipython",
    "version": 3
   },
   "file_extension": ".py",
   "mimetype": "text/x-python",
   "name": "python",
   "nbconvert_exporter": "python",
   "pygments_lexer": "ipython3",
   "version": "3.12.3"
  }
 },
 "nbformat": 4,
 "nbformat_minor": 5
}
