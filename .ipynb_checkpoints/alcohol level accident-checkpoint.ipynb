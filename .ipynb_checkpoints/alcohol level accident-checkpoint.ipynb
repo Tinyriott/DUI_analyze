{
 "cells": [
  {
   "cell_type": "code",
   "execution_count": 14,
   "id": "02336994-3ca1-4d04-9c9a-ea83a7b7366a",
   "metadata": {},
   "outputs": [],
   "source": [
    "from google.oauth2 import service_account\n",
    "from google.cloud import bigquery\n",
    "import pandas as pd\n",
    "from matplotlib import pyplot as plt\n",
    "import numpy as np\n",
    "from matplotlib import font_manager,rc\n",
    "\n",
    "plt.rc(\"font\", family = \"Malgun gothic\")"
   ]
  },
  {
   "cell_type": "code",
   "execution_count": 2,
   "id": "1efc13b3-b4df-451b-8406-daf42872a61a",
   "metadata": {},
   "outputs": [],
   "source": [
    "credentials = service_account.Credentials.from_service_account_file(\"./teamproject_key.json\")"
   ]
  },
  {
   "cell_type": "code",
   "execution_count": 3,
   "id": "dff75d67-9070-4947-968d-9fa06e2507f2",
   "metadata": {},
   "outputs": [],
   "source": [
    "client = bigquery.Client(\n",
    "    credentials = credentials,\n",
    "    project = credentials.project_id\n",
    ")"
   ]
  },
  {
   "cell_type": "code",
   "execution_count": 4,
   "id": "8a3892e9-1353-4cb8-b852-6062daac7d0e",
   "metadata": {},
   "outputs": [],
   "source": [
    "level = \"\"\"\n",
    "SELECT\n",
    "  *\n",
    "FROM\n",
    "  `teamproject-428905.kim.alcohol_level_accident_cnt`\n",
    "\"\"\""
   ]
  },
  {
   "cell_type": "code",
   "execution_count": 6,
   "id": "506d6f1a-301e-4737-9b59-126fe786c404",
   "metadata": {},
   "outputs": [],
   "source": [
    "level_df = client.query(level).to_dataframe()"
   ]
  },
  {
   "cell_type": "code",
   "execution_count": 8,
   "id": "061b6f30-831a-4034-99ca-c323611a481c",
   "metadata": {},
   "outputs": [],
   "source": [
    "level_df = level_df.set_index(\"음주정도\")"
   ]
  },
  {
   "cell_type": "code",
   "execution_count": 9,
   "id": "24abcb93-74e1-40f3-a507-244a0006454e",
   "metadata": {},
   "outputs": [
    {
     "data": {
      "text/html": [
       "<div>\n",
       "<style scoped>\n",
       "    .dataframe tbody tr th:only-of-type {\n",
       "        vertical-align: middle;\n",
       "    }\n",
       "\n",
       "    .dataframe tbody tr th {\n",
       "        vertical-align: top;\n",
       "    }\n",
       "\n",
       "    .dataframe thead th {\n",
       "        text-align: right;\n",
       "    }\n",
       "</style>\n",
       "<table border=\"1\" class=\"dataframe\">\n",
       "  <thead>\n",
       "    <tr style=\"text-align: right;\">\n",
       "      <th></th>\n",
       "      <th>사고건수</th>\n",
       "    </tr>\n",
       "    <tr>\n",
       "      <th>음주정도</th>\n",
       "      <th></th>\n",
       "    </tr>\n",
       "  </thead>\n",
       "  <tbody>\n",
       "    <tr>\n",
       "      <th>0.030~0.049%</th>\n",
       "      <td>378</td>\n",
       "    </tr>\n",
       "    <tr>\n",
       "      <th>0.05%~0.09%</th>\n",
       "      <td>779</td>\n",
       "    </tr>\n",
       "    <tr>\n",
       "      <th>0.10%~0.14%</th>\n",
       "      <td>2287</td>\n",
       "    </tr>\n",
       "    <tr>\n",
       "      <th>0.15%~0.19%</th>\n",
       "      <td>6518</td>\n",
       "    </tr>\n",
       "    <tr>\n",
       "      <th>0.20%~0.24%</th>\n",
       "      <td>3585</td>\n",
       "    </tr>\n",
       "    <tr>\n",
       "      <th>0.25%~0.29%</th>\n",
       "      <td>1187</td>\n",
       "    </tr>\n",
       "    <tr>\n",
       "      <th>0.30%~0.34%</th>\n",
       "      <td>267</td>\n",
       "    </tr>\n",
       "    <tr>\n",
       "      <th>0.35%이상</th>\n",
       "      <td>44</td>\n",
       "    </tr>\n",
       "  </tbody>\n",
       "</table>\n",
       "</div>"
      ],
      "text/plain": [
       "              사고건수\n",
       "음주정도              \n",
       "0.030~0.049%   378\n",
       "0.05%~0.09%    779\n",
       "0.10%~0.14%   2287\n",
       "0.15%~0.19%   6518\n",
       "0.20%~0.24%   3585\n",
       "0.25%~0.29%   1187\n",
       "0.30%~0.34%    267\n",
       "0.35%이상         44"
      ]
     },
     "execution_count": 9,
     "metadata": {},
     "output_type": "execute_result"
    }
   ],
   "source": [
    "level_df"
   ]
  },
  {
   "cell_type": "code",
   "execution_count": 17,
   "id": "7da6b561-ea9a-49b6-bc06-abdd23e2aa9e",
   "metadata": {},
   "outputs": [
    {
     "data": {
      "text/plain": [
       "Text(0, 0.5, 'Accident')"
      ]
     },
     "execution_count": 17,
     "metadata": {},
     "output_type": "execute_result"
    },
    {
     "data": {
      "image/png": "[encoded data removed]",
      "text/plain": [
       "<Figure size 640x480 with 1 Axes>"
      ]
     },
     "metadata": {},
     "output_type": "display_data"
    }
   ],
   "source": [
    "plt.style.use ('ggplot')\n",
    "level_df.plot(kind = \"bar\")\n",
    "plt.xlabel(\"Drink\")\n",
    "plt.ylabel(\"Accident\")"
   ]
  },
  {
   "cell_type": "code",
   "execution_count": null,
   "id": "8508ea09-1b16-4745-a22b-f225bd4d6f21",
   "metadata": {},
   "outputs": [],
   "source": []
  }
 ],
 "metadata": {
  "kernelspec": {
   "display_name": "Python 3 (ipykernel)",
   "language": "python",
   "name": "python3"
  },
  "language_info": {
   "codemirror_mode": {
    "name": "ipython",
    "version": 3
   },
   "file_extension": ".py",
   "mimetype": "text/x-python",
   "name": "python",
   "nbconvert_exporter": "python",
   "pygments_lexer": "ipython3",
   "version": "3.12.3"
  }
 },
 "nbformat": 4,
 "nbformat_minor": 5
}
